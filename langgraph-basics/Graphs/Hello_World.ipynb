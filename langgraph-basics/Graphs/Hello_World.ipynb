{
 "cells": [
  {
   "cell_type": "code",
   "execution_count": 2,
   "id": "e6b44adb-c77a-4d5f-a00f-27313fd51ad8",
   "metadata": {},
   "outputs": [],
   "source": [
    "from typing import Dict, TypedDict\n",
    "from langgraph.graph import StateGraph # framework that helps you design and manage the flow of tasks in your application using a graph structure"
   ]
  },
  {
   "cell_type": "code",
   "execution_count": null,
   "id": "925cc84a-51e4-4b23-a43f-0825fd8570a7",
   "metadata": {},
   "outputs": [],
   "source": [
    "class AgentState(TypedDict):\n",
    "    message: str\n",
    "\n",
    "def greeeting_node(state: AgentState) -> AgentState:\n",
    "    "
   ]
  }
 ],
 "metadata": {
  "kernelspec": {
   "display_name": "lc-academy-env",
   "language": "python",
   "name": "lc-academy-env"
  },
  "language_info": {
   "codemirror_mode": {
    "name": "ipython",
    "version": 3
   },
   "file_extension": ".py",
   "mimetype": "text/x-python",
   "name": "python",
   "nbconvert_exporter": "python",
   "pygments_lexer": "ipython3",
   "version": "3.12.4"
  }
 },
 "nbformat": 4,
 "nbformat_minor": 5
}
