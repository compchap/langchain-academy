{
 "cells": [
  {
   "cell_type": "code",
   "execution_count": 1,
   "id": "6b200c37",
   "metadata": {},
   "outputs": [],
   "source": [
    "from typing import Dict, TypedDict, List\n",
    "from langgraph.graph import StateGraph, START, END\n",
    "import random"
   ]
  },
  {
   "cell_type": "code",
   "execution_count": null,
   "id": "a9857b81",
   "metadata": {},
   "outputs": [],
   "source": [
    "class AgentState(TypedDict):\n",
    "    player_name: str # input \n",
    "    target_number: int\n",
    "    guesses: List[int]\n",
    "    attempts: int\n",
    "    hint: str\n",
    "    lower_bound: int # input \n",
    "    upper_bound: int # input \n"
   ]
  },
  {
   "cell_type": "code",
   "execution_count": 48,
   "id": "46d8bf5b",
   "metadata": {},
   "outputs": [],
   "source": [
    "def greeting_node(state: AgentState) -> AgentState:\n",
    "    state[\"player_name\"] = f\"Hello {state['player_name']}, Welcome to the game!\"\n",
    "    return state\n",
    "\n",
    "def setup_game_node(state: AgentState) -> AgentState:\n",
    "    \"\"\" Setup the game \"\"\"\n",
    "\n",
    "    state[\"target_number\"] = random.randint(state[\"lower_bound\"], state[\"upper_bound\"])\n",
    "    state[\"guesses\"] = []\n",
    "    state[\"attempts\"] = 0\n",
    "    state[\"hint\"] = \"Game is setup, make a guess!\"\n",
    "    state[\"lower_bound\"] = 1\n",
    "    state[\"upper_bound\"] = 20\n",
    "    print(f\"{state['player_name']}. The game has begun. I am thinking of a number between {state['lower_bound']} and {state['upper_bound']}.\")\n",
    "    return state    \n",
    "\n",
    "def guess_node(state: AgentState) -> AgentState:\n",
    "    \"\"\" Generate a smarter guess based on the previous hint \"\"\"\n",
    "    \n",
    "    \"\"\" \n",
    "    finding all the numbers between the lower and upper bounds that haven't been guessed yet, \n",
    "    so the game knows what valid options are still available to choose from\n",
    "\n",
    "    For example, if the range is 1-10 \n",
    "    and you've already guessed 3, 7, and 9, \n",
    "    then possible_guesses would be [1, 2, 4, 5, 6, 8, 10]\n",
    "    \"\"\"\n",
    "    possible_guesses = [\n",
    "                        i for i in range(state[\"lower_bound\"], state[\"upper_bound\"] + 1) \n",
    "                            if i not in state[\"guesses\"]\n",
    "                            ]\n",
    "\n",
    "    if possible_guesses:\n",
    "        guess = random.choice(possible_guesses)\n",
    "    else:\n",
    "        guess = random.randint(state[\"lower_bound\"], state[\"upper_bound\"])\n",
    "   \n",
    "    state[\"guesses\"].append(guess)\n",
    "    state[\"attempts\"] += 1\n",
    "    \n",
    "    print(f\"Attempt {state['attempts']}: Guessing {guess} between {state['lower_bound']} and {state['upper_bound']}\")\n",
    "\n",
    "    return state\n",
    "\n",
    "def hint_node(state: AgentState) -> AgentState:\n",
    "    \"\"\" Provide a hint \"\"\"\n",
    "\n",
    "    latest_guess = state[\"guesses\"][-1]\n",
    "    target_number = state[\"target_number\"]\n",
    "\n",
    "    if latest_guess < target_number:\n",
    "        state[\"hint\"] = \"higher\"\n",
    "        state[\"lower_bound\"] = max(state[\"lower_bound\"], latest_guess + 1)\n",
    "        print(f\"Hint: {state['hint']}   \")\n",
    "    elif latest_guess > target_number:\n",
    "        state[\"hint\"] = \"lower\"\n",
    "        state[\"upper_bound\"] = min(state[\"upper_bound\"], latest_guess - 1)\n",
    "        print(f\"Hint: {state['hint']}\")\n",
    "    else:\n",
    "        state[\"hint\"] = f\"correct! You guessed the number {target_number}  in {state['attempts']} attempts\"\n",
    "        print(f\"Success: {state['hint']}\")\n",
    "    \n",
    "    return state\n",
    "\n",
    "def should_continue_node(state: AgentState) -> AgentState:\n",
    "    \"\"\" Check if the game should continue \"\"\"\n",
    "    latest_guess = state[\"guesses\"][-1]\n",
    "\n",
    "    if state[\"attempts\"] >= 7:\n",
    "        print(\"Game over! You've made 7 attempts. Better luck next time!\")\n",
    "        return \"end\"\n",
    "    elif latest_guess == state[\"target_number\"]:\n",
    "        print(f\"Success: {state['hint']}\")\n",
    "        return \"end\"\n",
    "    else:\n",
    "        print(f\"Game is still on! Attempt: {state['attempts']}/7 Make a guess!\")\n",
    "        return \"continue\"\n",
    "        \n"
   ]
  },
  {
   "cell_type": "code",
   "execution_count": 43,
   "id": "e372a545",
   "metadata": {},
   "outputs": [],
   "source": [
    "graph = StateGraph(AgentState)\n",
    "\n",
    "graph.add_node(\"greeting\", greeting_node)\n",
    "graph.add_node(\"setup_game\", setup_game_node)\n",
    "graph.add_node(\"guess\", guess_node)\n",
    "graph.add_node(\"hint\", hint_node)\n",
    "\n",
    "\n",
    "graph.add_edge(START, \"greeting\")\n",
    "graph.add_edge(\"greeting\", \"setup_game\")\n",
    "graph.add_edge(\"setup_game\", \"guess\")\n",
    "graph.add_edge(\"guess\", \"hint\")\n",
    "\n",
    "graph.add_conditional_edges(\n",
    "    \"hint\",\n",
    "    should_continue_node,\n",
    "    {\n",
    "        \"continue\": \"guess\",\n",
    "        \"end\": END\n",
    "    }\n",
    ")\n",
    "\n",
    "app = graph.compile()"
   ]
  },
  {
   "cell_type": "code",
   "execution_count": 44,
   "id": "7c845244",
   "metadata": {},
   "outputs": [
    {
     "data": {
      "image/png": "[encoded data removed]",
      "text/plain": [
       "<IPython.core.display.Image object>"
      ]
     },
     "metadata": {},
     "output_type": "display_data"
    }
   ],
   "source": [
    "from IPython.display import Image, display\n",
    "\n",
    "display(Image(app.get_graph().draw_mermaid_png()))"
   ]
  },
  {
   "cell_type": "code",
   "execution_count": 47,
   "id": "46d04fc9",
   "metadata": {},
   "outputs": [
    {
     "name": "stdout",
     "output_type": "stream",
     "text": [
      "Hello John, Welcome to the game!. The game has begun. I am thinking of a number between 1 and 20.\n",
      "Attempt 1: Guessing 2 between 1 and 20\n",
      "Success: correct! You guessed the number 2  in 1 attempts\n",
      "Success: correct! You guessed the number 2  in 1 attempts\n"
     ]
    }
   ],
   "source": [
    "res = app.invoke({\"player_name\": \"John\", \"lower_bound\": 1, \"upper_bound\": 20})"
   ]
  },
  {
   "cell_type": "code",
   "execution_count": null,
   "id": "2fc24c66",
   "metadata": {},
   "outputs": [],
   "source": []
  }
 ],
 "metadata": {
  "kernelspec": {
   "display_name": "lc-academy-env",
   "language": "python",
   "name": "python3"
  },
  "language_info": {
   "codemirror_mode": {
    "name": "ipython",
    "version": 3
   },
   "file_extension": ".py",
   "mimetype": "text/x-python",
   "name": "python",
   "nbconvert_exporter": "python",
   "pygments_lexer": "ipython3",
   "version": "3.12.4"
  }
 },
 "nbformat": 4,
 "nbformat_minor": 5
}
