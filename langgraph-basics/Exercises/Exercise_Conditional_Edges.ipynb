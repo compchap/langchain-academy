{
 "cells": [
  {
   "cell_type": "code",
   "execution_count": 1,
   "id": "adc8e0d9",
   "metadata": {},
   "outputs": [],
   "source": [
    "from typing import TypedDict\n",
    "from langgraph.graph import StateGraph, START, END\n"
   ]
  },
  {
   "cell_type": "code",
   "execution_count": 3,
   "id": "2954beb5",
   "metadata": {},
   "outputs": [],
   "source": [
    "class AgentState(TypedDict):\n",
    "    number1: int\n",
    "    operationA: str\n",
    "    number2: int\n",
    "    number3: int\n",
    "    operationB: str\n",
    "    number4: int\n",
    "    final_result: int"
   ]
  },
  {
   "cell_type": "code",
   "execution_count": 5,
   "id": "d16857cd",
   "metadata": {},
   "outputs": [],
   "source": [
    "def adder_1(state: AgentState) -> AgentState:\n",
    "    state[\"final_result\"] = state[\"number1\"] + state[\"number2\"]\n",
    "    return state\n",
    "\n",
    "def subtractor_1(state: AgentState) -> AgentState:\n",
    "    state[\"final_result\"] = state[\"number1\"] - state[\"number2\"]\n",
    "    return state\n",
    "\n",
    "def adder_2(state: AgentState) -> AgentState:\n",
    "    state[\"final_result\"] = state[\"number3\"] + state[\"number4\"]\n",
    "    return state\n",
    "\n",
    "def subtractor_2(state: AgentState) -> AgentState:\n",
    "    state[\"final_result\"] = state[\"number3\"] - state[\"number4\"]\n",
    "    return state\n",
    "\n",
    "def router_1(state: AgentState) -> AgentState:\n",
    "    if state[\"operationA\"] == \"+\":\n",
    "        return \"adder_1\"\n",
    "    else:\n",
    "        return \"subtractor_1\"\n",
    "\n",
    "def router_2(state: AgentState) -> AgentState:\n",
    "    if state[\"operationB\"] == \"+\":\n",
    "        return \"adder_2\"\n",
    "    else:\n",
    "        return \"subtractor_2\"\n",
    "\n"
   ]
  },
  {
   "cell_type": "code",
   "execution_count": 11,
   "id": "360a146f",
   "metadata": {},
   "outputs": [],
   "source": [
    "graph = StateGraph(AgentState)\n",
    "\n",
    "graph.add_node(\"adder_1\", adder_1)\n",
    "graph.add_node(\"subtractor_1\", subtractor_1)\n",
    "graph.add_node(\"adder_2\", adder_2)\n",
    "graph.add_node(\"subtractor_2\", subtractor_2)\n",
    "\n",
    "graph.add_node(\"router_1\", lambda state: state)\n",
    "graph.add_node(\"router_2\", lambda state: state)\n",
    "\n",
    "graph.add_edge(START, \"router_1\")\n",
    "\n",
    "graph.add_conditional_edges(\n",
    "    \"router_1\",\n",
    "    router_1,\n",
    "    {\n",
    "        \"adder_1\": \"adder_1\",\n",
    "        \"subtractor_1\": \"subtractor_1\",\n",
    "    }\n",
    ")\n",
    "\n",
    "graph.add_edge(\"adder_1\", \"router_2\")\n",
    "graph.add_edge(\"subtractor_1\", \"router_2\")\n",
    "\n",
    "graph.add_conditional_edges(\n",
    "    \"router_2\",\n",
    "    router_2,\n",
    "    {\n",
    "        \"adder_2\": \"adder_2\",\n",
    "        \"subtractor_2\": \"subtractor_2\",\n",
    "    }\n",
    ")\n",
    "\n",
    "app = graph.compile()"
   ]
  },
  {
   "cell_type": "code",
   "execution_count": 13,
   "id": "17b23bad",
   "metadata": {},
   "outputs": [
    {
     "data": {
      "image/png": "[encoded data removed]",
      "text/plain": [
       "<IPython.core.display.Image object>"
      ]
     },
     "metadata": {},
     "output_type": "display_data"
    }
   ],
   "source": [
    "from IPython.display import Image, display\n",
    "display(Image(app.get_graph().draw_mermaid_png()))"
   ]
  },
  {
   "cell_type": "code",
   "execution_count": 9,
   "id": "ac616ff5",
   "metadata": {},
   "outputs": [],
   "source": [
    "res = app.invoke({\"number1\": 1, \"operationA\": \"+\", \"number2\": 2, \"number3\": 3, \"operationB\": \"-\", \"number4\": 4})"
   ]
  },
  {
   "cell_type": "code",
   "execution_count": 10,
   "id": "d1053c3e",
   "metadata": {},
   "outputs": [
    {
     "name": "stdout",
     "output_type": "stream",
     "text": [
      "{'number1': 1, 'operationA': '+', 'number2': 2, 'number3': 3, 'operationB': '-', 'number4': 4, 'final_result': -1}\n"
     ]
    }
   ],
   "source": [
    "print(res)"
   ]
  },
  {
   "cell_type": "code",
   "execution_count": null,
   "id": "f77f4b54",
   "metadata": {},
   "outputs": [],
   "source": []
  }
 ],
 "metadata": {
  "kernelspec": {
   "display_name": "lc-academy-env",
   "language": "python",
   "name": "python3"
  },
  "language_info": {
   "codemirror_mode": {
    "name": "ipython",
    "version": 3
   },
   "file_extension": ".py",
   "mimetype": "text/x-python",
   "name": "python",
   "nbconvert_exporter": "python",
   "pygments_lexer": "ipython3",
   "version": "3.12.4"
  }
 },
 "nbformat": 4,
 "nbformat_minor": 5
}
